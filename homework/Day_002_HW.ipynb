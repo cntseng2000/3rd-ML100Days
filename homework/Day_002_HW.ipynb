{
 "cells": [
  {
   "cell_type": "markdown",
   "metadata": {},
   "source": [
    "## [作業目標]\n",
    "了解機器學習適合應用的領域與範疇。"
   ]
  },
  {
   "cell_type": "markdown",
   "metadata": {},
   "source": [
    "## [作業重點]\n",
    "透過瞭解機器學習的運作方式，找出非常適用機器學習應用的領域及其原因"
   ]
  },
  {
   "cell_type": "markdown",
   "metadata": {},
   "source": [
    "## 作業\n",
    "請找出一個你認為機器學習可以發光發熱的領域並闡述原因? "
   ]
  },
  {
   "cell_type": "code",
   "execution_count": null,
   "metadata": {},
   "outputs": [],
   "source": [
    "我認為醫療領域是機器學習可以發光發熱的一個領域\n",
    "\n",
    "現代醫療診斷講究實據, 大多要依據生化檢驗數據或醫學影像數據來做診斷, 判斷標準明確, 加上現在病歷資料完整又多\n",
    "已數位化, 因此很適合引進機器學習代為做出初步診斷並建議治療方式\n",
    "\n",
    "當然, 隨著醫學進步, 這些診斷的依據也會隨著做調整, 只要重新調整機器學習的參數, 重新學習, 很快就可以跟上腳步\n",
    "\n",
    "另外, 在醫療處置上, 如注射或手術等, 未來也可以藉由機器視覺建立患部的3D影樣, 以機器學習自動判斷下針或下刀位\n",
    "置, 方位, 深度等, 配合智慧機械手臂, 避免處置過程的人為誤差"
   ]
  }
 ],
 "metadata": {
  "kernelspec": {
   "display_name": "Python 3",
   "language": "python",
   "name": "python3"
  },
  "language_info": {
   "codemirror_mode": {
    "name": "ipython",
    "version": 3
   },
   "file_extension": ".py",
   "mimetype": "text/x-python",
   "name": "python",
   "nbconvert_exporter": "python",
   "pygments_lexer": "ipython3",
   "version": "3.7.3"
  }
 },
 "nbformat": 4,
 "nbformat_minor": 2
}
