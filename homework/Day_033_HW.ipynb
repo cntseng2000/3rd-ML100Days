{
 "cells": [
  {
   "cell_type": "markdown",
   "metadata": {},
   "source": [
    "## 練習時間"
   ]
  },
  {
   "cell_type": "markdown",
   "metadata": {},
   "source": [
    "請觀看李宏毅教授以神奇寶貝進化 CP 值預測的範例，解說何謂機器學習與過擬合。並回答以下問題"
   ]
  },
  {
   "cell_type": "markdown",
   "metadata": {},
   "source": [
    "[youtube](https://www.youtube.com/watch?v=fegAeph9UaA)"
   ]
  },
  {
   "cell_type": "markdown",
   "metadata": {},
   "source": [
    "### 1. 模型的泛化能力 (generalization) 是指什麼？ \n",
    "    泛化能力指的是一個模型對新的未曾接觸過的測試數據的適應力或預測能力\n",
    "### 2. 分類問題與回歸問題分別可用的目標函數有哪些？\n",
    "    分類問題我們可以使⽤ Log loss, Focal loss, KL Divergence/Relative entropy, Exponential loss, Hinge loss 等loss function 來衡量\n",
    "    線性回歸模型我們可以使⽤均⽅差 (mean square error), mean absolute error, Huber loss, Log cosh Loss, Quantile loss 等loss function 來衡量"
   ]
  }
 ],
 "metadata": {
  "kernelspec": {
   "display_name": "Python 3",
   "language": "python",
   "name": "python3"
  },
  "language_info": {
   "codemirror_mode": {
    "name": "ipython",
    "version": 3
   },
   "file_extension": ".py",
   "mimetype": "text/x-python",
   "name": "python",
   "nbconvert_exporter": "python",
   "pygments_lexer": "ipython3",
   "version": "3.7.3"
  }
 },
 "nbformat": 4,
 "nbformat_minor": 2
}
